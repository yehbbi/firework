{
  "nbformat": 4,
  "nbformat_minor": 0,
  "metadata": {
    "colab": {
      "provenance": [],
      "authorship_tag": "ABX9TyN/VNpuQC+5Ug2C0MMPCrt4",
      "include_colab_link": true
    },
    "kernelspec": {
      "name": "python3",
      "display_name": "Python 3"
    },
    "language_info": {
      "name": "python"
    }
  },
  "cells": [
    {
      "cell_type": "markdown",
      "metadata": {
        "id": "view-in-github",
        "colab_type": "text"
      },
      "source": [
        "<a href=\"https://colab.research.google.com/github/yehbbi/firework/blob/main/%EB%82%A0%EC%94%A8%EA%B3%B5%EA%B8%B0%EC%A7%88_%EC%95%8C%EB%A6%BC%ED%94%84%EB%A1%9C%EA%B7%B8%EB%9E%A8.ipynb\" target=\"_parent\"><img src=\"https://colab.research.google.com/assets/colab-badge.svg\" alt=\"Open In Colab\"/></a>"
      ]
    },
    {
      "cell_type": "code",
      "execution_count": null,
      "metadata": {
        "colab": {
          "base_uri": "https://localhost:8080/"
        },
        "id": "eIPUhL2bYNMT",
        "outputId": "505babd1-a928-4a69-b738-7a1d7467c862"
      },
      "outputs": [
        {
          "output_type": "stream",
          "name": "stdout",
          "text": [
            "어떤 옵션을 선택하시겠습니까?(입력/조회): 입력\n",
            "오늘 날짜(m/d): 9/11\n",
            "오늘 기온(℃): 32\n",
            "미세먼지 농도(㎍/m³): 27\n",
            "입력해주신 오늘 날짜에 대한 기록이 존재합니다. 기록을 다시 입력하시겠습니까?(Y/N): .Y\n",
            "잘못 입력하셨습니다.\n",
            "입력해주신 오늘 날짜에 대한 기록이 존재합니다. 기록을 다시 입력하시겠습니까?(Y/N): Y\n",
            "🔥 폭염 주의! 수분 섭취를 충분히 하세요.\n",
            "기록이 저장되었습니다.\n"
          ]
        }
      ],
      "source": [
        "def record():\n",
        "  while True:\n",
        "    day = input(\"오늘 날짜(m/d): \")\n",
        "\n",
        "    try:\n",
        "      temp = float(input(\"오늘 기온(℃): \"))\n",
        "      pm = int(input(\"미세먼지 농도(㎍/m³): \"))\n",
        "    except ValueError:\n",
        "      print(\"기온과 미세먼지는 숫자로 입력해주세요.\")\n",
        "      continue\n",
        "\n",
        "    try:\n",
        "      with open(\"record.txt\", \"r\", encoding=\"utf-8\") as f:\n",
        "        lines = f.readlines()\n",
        "    except FileNotFoundError:\n",
        "      lines = []\n",
        "\n",
        "    existing_line = None\n",
        "    for line in lines:\n",
        "      if line.startswith(day):\n",
        "        existing_line = line\n",
        "        break\n",
        "\n",
        "    if existing_line:\n",
        "      while True:\n",
        "        check = input(\"입력해주신 오늘 날짜에 대한 기록이 존재합니다. 기록을 다시 입력하시겠습니까?(Y/N): \")\n",
        "        if check.upper() == \"Y\":\n",
        "          lines = [line for line in lines if not line.startswith(day)]\n",
        "          break\n",
        "        elif check.upper() == \"N\":\n",
        "          print(\"날짜를 다시 입력해주세요.\")\n",
        "          break\n",
        "        else:\n",
        "          print(\"잘못 입력하셨습니다.\")\n",
        "\n",
        "      if check.upper() == \"N\":\n",
        "          continue\n",
        "\n",
        "    for line in lines:\n",
        "      if line.startswith(day):\n",
        "        check = input(\"입력해주신 오늘 날짜에 대한 기록이 존재합니다. 기록을 다시 입력하시겠습니까?(Y/N): \")\n",
        "        if check.upper() == \"Y\":\n",
        "          break\n",
        "        elif check.upper() == \"N\":\n",
        "          print(\"날짜를 다시 입력해주세요.\")\n",
        "          continue\n",
        "        else:\n",
        "          print(\"잘못 입력하셨습니다.\")\n",
        "\n",
        "    alerts = []\n",
        "    if temp <= 0:\n",
        "      alerts.append(\"❄️ 날씨가 매우 춥습니다. 외투를 챙기세요!\")\n",
        "    elif temp >= 30:\n",
        "      alerts.append(\"🔥 폭염 주의! 수분 섭취를 충분히 하세요.\")\n",
        "\n",
        "    if pm > 80:\n",
        "      alerts.append(\"🌫 공기질이 나쁩니다. 마스크를 착용하세요.\")\n",
        "\n",
        "    for alert in alerts:\n",
        "      print(alert)\n",
        "\n",
        "    if not alerts:\n",
        "      print(\"🌤 날씨와 공기질 모두 양호합니다.\")\n",
        "\n",
        "    alerts_str = \", \".join(alerts) if alerts else \"양호\"\n",
        "    new_record = f\"{day}  {temp}  {pm}  [{alerts_str}]\\n\"\n",
        "\n",
        "    lines.append(new_record)\n",
        "\n",
        "    with open(\"record.txt\", \"w\", encoding=\"utf-8\") as f:\n",
        "      f.writelines(lines)\n",
        "\n",
        "    print(\"기록이 저장되었습니다.\")\n",
        "    break\n",
        "\n",
        "def search():\n",
        "  search_day = input(\"조회할 날짜(m/d)\")\n",
        "\n",
        "  try:\n",
        "    with open(\"record.txt\", \"r\", encoding=\"utf-8\") as f:\n",
        "      found = False\n",
        "      for line in f:\n",
        "        if line.startswith(search_day):\n",
        "          print(line.strip())\n",
        "          found = True\n",
        "\n",
        "      if not found:\n",
        "        print(\"해당 날짜에 대한 기록이 없습니다.\")\n",
        "  except FileNotFoundError:\n",
        "      print(\"기록 파일이 존재하지 않습니다.\")\n",
        "\n",
        "while True:\n",
        "  select = str(input(\"어떤 옵션을 선택하시겠습니까?(입력/조회): \"))\n",
        "  if select == \"입력\":\n",
        "    record()\n",
        "    break\n",
        "  elif select == \"조회\":\n",
        "    search()\n",
        "    break\n",
        "  else:\n",
        "    print(\"다시 입력해주세요.\")"
      ]
    },
    {
      "cell_type": "code",
      "source": [
        "\"\""
      ],
      "metadata": {
        "id": "WfPIhLmjUzJJ"
      },
      "execution_count": null,
      "outputs": []
    }
  ]
}